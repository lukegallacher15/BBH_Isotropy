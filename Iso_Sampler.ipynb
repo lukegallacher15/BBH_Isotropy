{
 "cells": [
  {
   "cell_type": "markdown",
   "id": "6f319d5c",
   "metadata": {},
   "source": [
    "# Isotropic Model Merger Rate Sampler"
   ]
  },
  {
   "cell_type": "code",
   "execution_count": 1,
   "id": "c3f1cd0d",
   "metadata": {},
   "outputs": [],
   "source": [
    "import bilby as bb\n",
    "import gwpopulation as gwpop\n",
    "import matplotlib.pyplot as plt\n",
    "import pandas as pd\n",
    "import jax\n",
    "from bilby.core.prior import PriorDict, Uniform\n",
    "import jax_healpy as hp\n",
    "gwpop.set_backend(\"jax\")\n",
    "\n",
    "xp = gwpop.utils.xp\n",
    "\n",
    "%matplotlib inline"
   ]
  },
  {
   "cell_type": "markdown",
   "id": "feb2bfc9",
   "metadata": {},
   "source": [
    "# Load Posteriors\n",
    "Need to remove BHNS events as they ruin the likelihood"
   ]
  },
  {
   "cell_type": "code",
   "execution_count": 2,
   "id": "465d3bd7",
   "metadata": {},
   "outputs": [
    {
     "name": "stdout",
     "output_type": "stream",
     "text": [
      "67\n"
     ]
    }
   ],
   "source": [
    "Posteriors = list()\n",
    "import pickle\n",
    "\n",
    "# Load the pickled list of dictionaries\n",
    "with open(\"O3a_FINAL_parameter_posteriors.pkl\", \"rb\") as f:\n",
    "    raw_event_data = pickle.load(f)\n",
    "\n",
    "# Convert each event's dictionary into a DataFrame\n",
    "for event in raw_event_data:\n",
    "    # Remove the event name key — we'll store it as metadata instead\n",
    "    event_name = event.pop(\"event\", None)\n",
    "    df = pd.DataFrame(event)\n",
    "    df.attrs[\"event\"] = event_name  # Store event label as metadata\n",
    "    Posteriors.append(df)\n",
    "\n",
    "with open(\"O3b_FINAL_parameter_posteriors.pkl\", \"rb\") as f:\n",
    "    raw_event_data = pickle.load(f)\n",
    "\n",
    "# Convert each event's dictionary into a DataFrame\n",
    "for event in raw_event_data:\n",
    "    # Remove the event name key — we'll store it as metadata instead\n",
    "    event_name = event.pop(\"event\", None)\n",
    "    df = pd.DataFrame(event)\n",
    "    df.attrs[\"event\"] = event_name  # Store event label as metadata\n",
    "    Posteriors.append(df)\n",
    "\n",
    "\n",
    "# Suppose your list of DataFrames is called `dataframes`\n",
    "Posteriors_filtered = [df for df in Posteriors if len(df[\"mass_1\"]) >= 2000]\n",
    "\n",
    "\n",
    "del Posteriors_filtered[67]\n",
    "del Posteriors_filtered[53]\n",
    "del Posteriors_filtered[46]\n",
    "del Posteriors_filtered[26]\n",
    "\n",
    "#print(Posteriors_filtered[25]['full_event'])\n",
    "#for i, df in enumerate(Posteriors_filtered):\n",
    "#    event_name = df.attrs.get(\"event\", f\"unnamed_event_{i}\")\n",
    "#    print(f\"{i}: {event_name}\")\n",
    "\n",
    "for i in range(0, len(Posteriors_filtered)):\n",
    "    del Posteriors_filtered[i][\"full_event\"] \n",
    "\n",
    "print(len(Posteriors_filtered))"
   ]
  },
  {
   "cell_type": "markdown",
   "id": "6056c520",
   "metadata": {},
   "source": [
    "# Load Injections"
   ]
  },
  {
   "cell_type": "code",
   "execution_count": 3,
   "id": "77c0dcc1",
   "metadata": {},
   "outputs": [
    {
     "name": "stderr",
     "output_type": "stream",
     "text": [
      "15:15 bilby INFO    : Loading VT data from /data/wiay/gw-data-releases/2023/7890437/endo3_bbhpop-LIGO-T2100113-v12.hdf5.\n"
     ]
    }
   ],
   "source": [
    "from gwpopulation_pipe.vt_helper import load_injection_data\n",
    "import h5py\n",
    "\n",
    "def load_injection_data_with_sky(vt_file, ifar_threshold=1, snr_threshold=10):\n",
    "    # Call your existing standard function to get the injections dict (VTData or dict)\n",
    "    injections = load_injection_data(vt_file, ifar_threshold, snr_threshold)\n",
    "    \n",
    "    # Open the file again to extract sky location arrays if present\n",
    "    with h5py.File(vt_file, \"r\") as ff:\n",
    "        # Try common keys for sky position in injections or events group\n",
    "        ra = None\n",
    "        dec = None\n",
    "        if \"injections\" in ff and \"right_ascension\" in ff[\"injections\"]:\n",
    "            ra = xp.array(ff[\"injections\"][\"right_ascension\"][()])\n",
    "            dec = xp.array(ff[\"injections\"][\"declination\"][()])\n",
    "        elif \"events\" in ff and \"right_ascension\" in ff[\"events\"].dtype.names:\n",
    "            ra = xp.array(ff[\"events\"][\"right_ascension\"][()])\n",
    "            dec = xp.array(ff[\"events\"][\"declination\"][()])\n",
    "        \n",
    "        # If found, apply the same selection mask as used for injections (usually `found`)\n",
    "        # This assumes you have access to the `found` mask, otherwise extract it again here:\n",
    "        # For now let's assume the selection mask is the same length as injections.mass_1\n",
    "        \n",
    "        if ra is not None and dec is not None:\n",
    "            # Match the length by slicing or by assuming same order as injections.mass_1\n",
    "            n = len(injections.mass_1)\n",
    "            injections.ra = ra[:n]\n",
    "            injections.dec = dec[:n]\n",
    "        else:\n",
    "            print(\"Warning: RA/DEC not found in the injection file.\")\n",
    "\n",
    "    return injections\n",
    "\n",
    "injections = load_injection_data_with_sky(\n",
    "    \"/data/wiay/gw-data-releases/2023/7890437/endo3_bbhpop-LIGO-T2100113-v12.hdf5\",\n",
    "    #\"/data/wiay/gw-data-releases/2023/7890437/endo3_bbhpop-LIGO-T2100113-v12-1238166018-15843600.hdf5\",\n",
    "    #\"/data/wiay/gw-data-releases/2023/7890437/endo3_bbhpop-LIGO-T2100113-v12-1256655642-12905976.hdf5\",\n",
    "    ifar_threshold=1.0,\n",
    "    snr_threshold=10.0\n",
    ")"
   ]
  },
  {
   "cell_type": "markdown",
   "id": "026cd13d",
   "metadata": {},
   "source": [
    "# Define Priors\n",
    "Need to find good numbers and replace with delta functions for all but sky model."
   ]
  },
  {
   "cell_type": "code",
   "execution_count": 4,
   "id": "a248f0f0",
   "metadata": {},
   "outputs": [],
   "source": [
    "priors = PriorDict()\n",
    "from bilby.core.prior import DeltaFunction, Exponential, Uniform, Sine, PowerLaw\n",
    "\n",
    "# mass\n",
    "priors[\"alpha\"] = Uniform(minimum=-2, maximum=4, latex_label=\"$\\\\alpha$\")\n",
    "priors[\"beta\"] = Uniform(minimum=-4, maximum=12, latex_label=\"$\\\\beta$\")\n",
    "priors[\"mmin\"] = Uniform(minimum=2, maximum=2.5, latex_label=\"$m_{\\\\min}$\")\n",
    "priors[\"mmax\"] = Uniform(minimum=80, maximum=100, latex_label=\"$m_{\\\\max}$\")\n",
    "priors[\"lam\"] = Uniform(minimum=0, maximum=1, latex_label=\"$\\\\lambda_{m}$\")\n",
    "priors[\"mpp\"] = Uniform(minimum=10, maximum=50, latex_label=\"$\\\\mu_{m}$\")\n",
    "priors[\"sigpp\"] = Uniform(minimum=1, maximum=10, latex_label=\"$\\\\sigma_{m}$\")\n",
    "priors[\"gaussian_mass_maximum\"] = 100\n",
    "# spin\n",
    "priors[\"amax\"] = 1\n",
    "priors[\"alpha_chi\"] = Uniform(\n",
    "    minimum=1, maximum=6, latex_label=\"$\\\\alpha_{\\\\chi}$\"\n",
    ")\n",
    "priors[\"beta_chi\"] = Uniform(minimum=1, maximum=6, latex_label=\"$\\\\beta_{\\\\chi}$\")\n",
    "priors[\"xi_spin\"] = Uniform(minimum=0, maximum=1, latex_label=\"$\\\\xi$\")\n",
    "priors[\"sigma_spin\"] = Uniform(minimum=0.3, maximum=4, latex_label=\"$\\\\sigma$\")\n",
    "# Cosmology\n",
    "priors[\"lamb\"] = Uniform(minimum=-1, maximum=10, latex_label=\"$\\\\lambda_{z}$\")\n",
    "\n",
    "## --- Sky model: pixel weights ---\n",
    "#for i in range(1, 13):\n",
    " #   priors[f\"a_{i}\"] = Exponential(mu=1.0, latex_label=f\"a_{i}\")\n",
    "\n",
    "# Rate model\n",
    "#priors[\"rate\"] = SqrtJeffreysRatePrior(minimum=0.1, maximum=750)\n",
    "#priors[\"rate\"] = PowerLaw(alpha=-1, minimum=0.01, maximum=400, latex_label=\"$R$\")\n"
   ]
  },
  {
   "cell_type": "markdown",
   "id": "357e6c4e",
   "metadata": {},
   "source": [
    "# Define combined model, selection function, and likelihood"
   ]
  },
  {
   "cell_type": "code",
   "execution_count": 5,
   "id": "ff9240ff",
   "metadata": {},
   "outputs": [],
   "source": [
    "def convert_vtdata_to_float64(vtdata):\n",
    "    for key in vtdata.keys():\n",
    "        val = vtdata[key]\n",
    "        if isinstance(val, (xp.ndarray,)):\n",
    "            vtdata[key] = val.astype(xp.float64)\n",
    "    return vtdata\n",
    "\n",
    "# Usage\n",
    "injections = convert_vtdata_to_float64(injections)"
   ]
  },
  {
   "cell_type": "code",
   "execution_count": 7,
   "id": "dc4c5b1e",
   "metadata": {},
   "outputs": [
    {
     "name": "stderr",
     "output_type": "stream",
     "text": [
      "15:16 bilby INFO    : No prior values provided, defaulting to 1.\n"
     ]
    }
   ],
   "source": [
    "from gwpopulation.experimental.jax import JittedLikelihood, NonCachingModel\n",
    "from gwpopulation.experimental.cosmo_models import CosmoModel\n",
    "from bilby.hyper.model import Model\n",
    "\n",
    "model = NonCachingModel(\n",
    "    model_functions=[\n",
    "        gwpop.models.mass.two_component_primary_mass_ratio,\n",
    "        gwpop.models.spin.iid_spin,\n",
    "        gwpop.models.redshift.PowerLawRedshift(cosmo_model=\"Planck15\"),\n",
    "    ],\n",
    ")\n",
    "\n",
    "vt = gwpop.vt.ResamplingVT(model=model, data=injections, n_events=len(Posteriors_filtered))\n",
    "\n",
    "likelihood = gwpop.hyperpe.HyperparameterLikelihood(\n",
    "    posteriors=Posteriors_filtered,\n",
    "    hyper_prior=model,\n",
    "    selection_function=vt,\n",
    "    max_samples=2000,\n",
    ")"
   ]
  },
  {
   "cell_type": "markdown",
   "id": "c2a04ceb",
   "metadata": {},
   "source": [
    "# Test likelihood"
   ]
  },
  {
   "cell_type": "code",
   "execution_count": 106,
   "id": "8fc4a97b",
   "metadata": {},
   "outputs": [
    {
     "name": "stdout",
     "output_type": "stream",
     "text": [
      "-1.7976931348623157e+308\n",
      "CPU times: user 280 ms, sys: 5.01 ms, total: 285 ms\n",
      "Wall time: 132 ms\n",
      "-1.7976931348623157e+308\n",
      "CPU times: user 8.11 s, sys: 455 ms, total: 8.56 s\n",
      "Wall time: 5.81 s\n",
      "-1.7976931348623157e+308\n",
      "CPU times: user 73.9 ms, sys: 0 ns, total: 73.9 ms\n",
      "Wall time: 6.86 ms\n"
     ]
    }
   ],
   "source": [
    "parameters = priors.sample()\n",
    "likelihood.parameters.update(parameters)\n",
    "likelihood.log_likelihood_ratio()\n",
    "%time print(likelihood.log_likelihood_ratio())\n",
    "jit_likelihood = JittedLikelihood(likelihood)\n",
    "jit_likelihood.parameters.update(parameters)\n",
    "%time print(jit_likelihood.log_likelihood_ratio())\n",
    "%time print(jit_likelihood.log_likelihood_ratio())"
   ]
  },
  {
   "cell_type": "code",
   "execution_count": 107,
   "id": "df5b7e2a",
   "metadata": {},
   "outputs": [
    {
     "name": "stderr",
     "output_type": "stream",
     "text": [
      "10:55 bilby INFO    : Running for label 'O3_ISO_w_outliers', output will be saved to 'Full_tests'\n",
      "10:55 bilby INFO    : Analysis priors:\n",
      "10:55 bilby INFO    : alpha=Uniform(minimum=-2, maximum=4, name=None, latex_label='$\\\\alpha$', unit=None, boundary=None)\n",
      "10:55 bilby INFO    : beta=Uniform(minimum=-4, maximum=12, name=None, latex_label='$\\\\beta$', unit=None, boundary=None)\n",
      "10:55 bilby INFO    : mmin=Uniform(minimum=2, maximum=2.5, name=None, latex_label='$m_{\\\\min}$', unit=None, boundary=None)\n",
      "10:55 bilby INFO    : mmax=Uniform(minimum=80, maximum=100, name=None, latex_label='$m_{\\\\max}$', unit=None, boundary=None)\n",
      "10:55 bilby INFO    : lam=Uniform(minimum=0, maximum=1, name=None, latex_label='$\\\\lambda_{m}$', unit=None, boundary=None)\n",
      "10:55 bilby INFO    : mpp=Uniform(minimum=10, maximum=50, name=None, latex_label='$\\\\mu_{m}$', unit=None, boundary=None)\n",
      "10:55 bilby INFO    : sigpp=Uniform(minimum=1, maximum=10, name=None, latex_label='$\\\\sigma_{m}$', unit=None, boundary=None)\n",
      "10:55 bilby INFO    : alpha_chi=Uniform(minimum=1, maximum=6, name=None, latex_label='$\\\\alpha_{\\\\chi}$', unit=None, boundary=None)\n",
      "10:55 bilby INFO    : beta_chi=Uniform(minimum=1, maximum=6, name=None, latex_label='$\\\\beta_{\\\\chi}$', unit=None, boundary=None)\n",
      "10:55 bilby INFO    : xi_spin=Uniform(minimum=0, maximum=1, name=None, latex_label='$\\\\xi$', unit=None, boundary=None)\n",
      "10:55 bilby INFO    : sigma_spin=Uniform(minimum=0.3, maximum=4, name=None, latex_label='$\\\\sigma$', unit=None, boundary=None)\n",
      "10:55 bilby INFO    : lamb=Uniform(minimum=-1, maximum=10, name=None, latex_label='$\\\\lambda_{z}$', unit=None, boundary=None)\n",
      "10:55 bilby INFO    : gaussian_mass_maximum=100\n",
      "10:55 bilby INFO    : amax=1\n",
      "10:55 bilby INFO    : Analysis likelihood class: <class 'gwpopulation.experimental.jax.JittedLikelihood'>\n",
      "10:55 bilby INFO    : Analysis likelihood noise evidence: nan\n",
      "10:55 bilby INFO    : Single likelihood evaluation took 2.010e-04 s\n",
      "10:55 bilby INFO    : Using sampler Dynesty with kwargs {'nlive': 100, 'bound': 'live', 'sample': 'acceptance-walk', 'periodic': None, 'reflective': None, 'update_interval': 600, 'first_update': None, 'npdim': None, 'rstate': None, 'queue_size': 1, 'pool': None, 'use_pool': None, 'live_points': None, 'logl_args': None, 'logl_kwargs': None, 'ptform_args': None, 'ptform_kwargs': None, 'gradient': None, 'grad_args': None, 'grad_kwargs': None, 'compute_jac': False, 'enlarge': None, 'bootstrap': None, 'walks': 100, 'facc': 0.2, 'slices': None, 'fmove': 0.9, 'max_move': 100, 'update_func': None, 'ncdim': None, 'blob': False, 'save_history': False, 'history_filename': None, 'maxiter': None, 'maxcall': None, 'dlogz': 0.1, 'logl_max': inf, 'n_effective': None, 'add_live': True, 'print_progress': True, 'print_func': <bound method Dynesty._print_func of <bilby.core.sampler.dynesty.Dynesty object at 0x7fc4e7e63150>>, 'save_bounds': False, 'checkpoint_file': None, 'checkpoint_every': 60, 'resume': False, 'seed': None}\n",
      "10:55 bilby INFO    : Global meta data was removed from the result object for compatibility. Use the `BILBY_INCLUDE_GLOBAL_METADATA` environment variable to include it. This behaviour will be removed in a future release. For more details see: https://bilby-dev.github.io/bilby/faq.html#global-meta-data\n",
      "10:55 bilby INFO    : Checkpoint every check_point_delta_t = 600s\n",
      "10:55 bilby INFO    : Using dynesty version 2.1.5\n",
      "10:55 bilby INFO    : Using the bilby-implemented acceptance-walk sampling with an average of 5 accepted steps per MCMC and maximum length 5000\n",
      "10:55 bilby INFO    : Resume file Full_tests/O3_ISO_w_outliers_resume.pickle does not exist.\n",
      "10:55 bilby INFO    : Generating initial points from the prior\n",
      "11:06 bilby INFO    : Run interrupted by signal 2: checkpoint and exit on 130\n"
     ]
    },
    {
     "ename": "SystemExit",
     "evalue": "130",
     "output_type": "error",
     "traceback": [
      "An exception has occurred, use %tb to see the full traceback.\n",
      "\u001b[31mSystemExit\u001b[39m\u001b[31m:\u001b[39m 130\n"
     ]
    },
    {
     "name": "stderr",
     "output_type": "stream",
     "text": [
      "/data/wiay/undergrads/2640787g/BHIsotropy/lib/python3.11/site-packages/IPython/core/interactiveshell.py:3680: UserWarning: To exit: use 'exit', 'quit', or Ctrl-D.\n",
      "  warn(\"To exit: use 'exit', 'quit', or Ctrl-D.\", stacklevel=1)\n"
     ]
    }
   ],
   "source": [
    "result = bb.run_sampler(\n",
    "    likelihood=jit_likelihood,\n",
    "    priors=priors,\n",
    "    sampler=\"dynesty\",\n",
    "    nlive=100,\n",
    "    label=\"O3_ISO_w_outliers\",\n",
    "    outdir=\"Full_tests\",\n",
    "    sample=\"acceptance-walk\",\n",
    "    naccept=5,\n",
    "    save=\"pkl\",\n",
    ")\n"
   ]
  },
  {
   "cell_type": "code",
   "execution_count": null,
   "id": "8a6a6a39",
   "metadata": {},
   "outputs": [
    {
     "data": {
      "image/png": "[encoded data removed]",
      "text/plain": [
       "<Figure size 640x480 with 1 Axes>"
      ]
     },
     "metadata": {},
     "output_type": "display_data"
    }
   ],
   "source": [
    "result_iso = bb.result.read_in_result('Full_tests/O3_ISO_test_result.pkl')\n",
    "\n",
    "rates = list()\n",
    "for ii in range(len(result_iso.posterior)):\n",
    "    likelihood.parameters.update(dict(result_iso.posterior.iloc[ii]))\n",
    "    rates.append(float(likelihood.generate_rate_posterior_sample()))\n",
    "result_iso.posterior[\"rate\"] = rates\n",
    "\n",
    "plt.hist(rates, bins=50, histtype=\"step\", density=True)\n",
    "plt.xlabel(\"${\\\\cal R}$\")\n",
    "plt.ylabel(\"$p({\\\\cal R})$\")\n",
    "plt.show()\n",
    "plt.close()"
   ]
  }
 ],
 "metadata": {
  "kernelspec": {
   "display_name": "BHIsotropy",
   "language": "python",
   "name": "python3"
  },
  "language_info": {
   "codemirror_mode": {
    "name": "ipython",
    "version": 3
   },
   "file_extension": ".py",
   "mimetype": "text/x-python",
   "name": "python",
   "nbconvert_exporter": "python",
   "pygments_lexer": "ipython3",
   "version": "3.11.2"
  }
 },
 "nbformat": 4,
 "nbformat_minor": 5
}
